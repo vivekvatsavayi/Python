{
 "cells": [
  {
   "cell_type": "code",
   "execution_count": 2,
   "metadata": {},
   "outputs": [
    {
     "name": "stdout",
     "output_type": "stream",
     "text": [
      "Profit is: 29\n",
      "Buy on day 1 and sell on day 2\n"
     ]
    }
   ],
   "source": [
    "stock_prices = [1,30,15,20,20,]\n",
    "pl = -10**20\n",
    "buy = 0\n",
    "sell =0\n",
    "\n",
    "for index in range(len(stock_prices)):\n",
    "    for subindex in range(index+1,len(stock_prices)):\n",
    "        diff = stock_prices[subindex] - stock_prices[index]\n",
    "        #print(\"diff\", diff)\n",
    "        if diff > pl:\n",
    "            buy = index + 1\n",
    "            sell = subindex + 1\n",
    "            pl = diff\n",
    "\n",
    "\n",
    "if pl > 0:\n",
    "    print(\"Profit is: {}\".format(pl))\n",
    "    print(\"Buy on day {} and sell on day {}\".format(buy,sell))\n",
    "    \n",
    "elif pl < 0:\n",
    "    print(\"Loss is:{}\".format(pl))\n",
    "    print(\"Buy on day {} and sell on day {}\".format(buy,sell))\n",
    "\n",
    "else: \n",
    "    print(\"This is breakeven\")\n",
    "           \n"
   ]
  },
  {
   "cell_type": "code",
   "execution_count": null,
   "metadata": {},
   "outputs": [],
   "source": []
  }
 ],
 "metadata": {
  "kernelspec": {
   "display_name": "Python 3",
   "language": "python",
   "name": "python3"
  },
  "language_info": {
   "codemirror_mode": {
    "name": "ipython",
    "version": 3
   },
   "file_extension": ".py",
   "mimetype": "text/x-python",
   "name": "python",
   "nbconvert_exporter": "python",
   "pygments_lexer": "ipython3",
   "version": "3.8.3"
  }
 },
 "nbformat": 4,
 "nbformat_minor": 4
}
